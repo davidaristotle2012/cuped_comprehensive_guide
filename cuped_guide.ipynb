{
 "cells": [
  {
   "cell_type": "markdown",
   "id": "ad722527",
   "metadata": {},
   "source": [
    "# How to use CUPED"
   ]
  },
  {
   "cell_type": "markdown",
   "id": "0bc5dc72",
   "metadata": {},
   "source": [
    "## Calculating the treatment effect"
   ]
  },
  {
   "cell_type": "code",
   "execution_count": null,
   "id": "16c20fa8",
   "metadata": {},
   "outputs": [],
   "source": [
    "import pandas as pd\n",
    "import numpy as np\n",
    "from scipy import stats\n",
    "import datetime\n",
    "from dateutil.relativedelta import relativedelta"
   ]
  },
  {
   "cell_type": "code",
   "execution_count": null,
   "id": "25578b08",
   "metadata": {},
   "outputs": [
    {
     "data": {
      "text/html": [
       "<div>\n",
       "<style scoped>\n",
       "    .dataframe tbody tr th:only-of-type {\n",
       "        vertical-align: middle;\n",
       "    }\n",
       "\n",
       "    .dataframe tbody tr th {\n",
       "        vertical-align: top;\n",
       "    }\n",
       "\n",
       "    .dataframe thead th {\n",
       "        text-align: right;\n",
       "    }\n",
       "</style>\n",
       "<table border=\"1\" class=\"dataframe\">\n",
       "  <thead>\n",
       "    <tr style=\"text-align: right;\">\n",
       "      <th></th>\n",
       "      <th>user_id</th>\n",
       "      <th>group</th>\n",
       "      <th>revenue_pre</th>\n",
       "      <th>revenue_exp</th>\n",
       "    </tr>\n",
       "  </thead>\n",
       "  <tbody>\n",
       "    <tr>\n",
       "      <th>0</th>\n",
       "      <td>cf7f6389-95e8-44b1-88d9-71a784d0eea3</td>\n",
       "      <td>control</td>\n",
       "      <td>126.174822</td>\n",
       "      <td>131.495757</td>\n",
       "    </tr>\n",
       "    <tr>\n",
       "      <th>1</th>\n",
       "      <td>6b129f09-fb5f-42df-bde3-a0daf9476c31</td>\n",
       "      <td>control</td>\n",
       "      <td>95.278575</td>\n",
       "      <td>105.803968</td>\n",
       "    </tr>\n",
       "    <tr>\n",
       "      <th>2</th>\n",
       "      <td>f5ce5d40-a918-482f-bd4a-27ade2af0d97</td>\n",
       "      <td>treatment</td>\n",
       "      <td>101.397369</td>\n",
       "      <td>101.787418</td>\n",
       "    </tr>\n",
       "    <tr>\n",
       "      <th>3</th>\n",
       "      <td>82592e1a-b6b7-42bf-a625-1fc138f92d3e</td>\n",
       "      <td>control</td>\n",
       "      <td>68.855613</td>\n",
       "      <td>56.851970</td>\n",
       "    </tr>\n",
       "    <tr>\n",
       "      <th>4</th>\n",
       "      <td>549b14a8-fc08-4224-bf8e-931a7a50e6ff</td>\n",
       "      <td>control</td>\n",
       "      <td>112.974435</td>\n",
       "      <td>101.960805</td>\n",
       "    </tr>\n",
       "    <tr>\n",
       "      <th>...</th>\n",
       "      <td>...</td>\n",
       "      <td>...</td>\n",
       "      <td>...</td>\n",
       "      <td>...</td>\n",
       "    </tr>\n",
       "    <tr>\n",
       "      <th>1958</th>\n",
       "      <td>074587da-a60a-4017-aa27-6d4c316efe71</td>\n",
       "      <td>treatment</td>\n",
       "      <td>80.804420</td>\n",
       "      <td>73.944887</td>\n",
       "    </tr>\n",
       "    <tr>\n",
       "      <th>1959</th>\n",
       "      <td>d1a843de-a1db-479f-9e23-65867cc57120</td>\n",
       "      <td>treatment</td>\n",
       "      <td>54.919574</td>\n",
       "      <td>79.652109</td>\n",
       "    </tr>\n",
       "    <tr>\n",
       "      <th>1960</th>\n",
       "      <td>c9e0f7e5-6c22-4434-9168-131e97841d9b</td>\n",
       "      <td>treatment</td>\n",
       "      <td>158.438671</td>\n",
       "      <td>141.914387</td>\n",
       "    </tr>\n",
       "    <tr>\n",
       "      <th>1961</th>\n",
       "      <td>c69dd04c-80c5-4c09-b961-ff188eb22a20</td>\n",
       "      <td>control</td>\n",
       "      <td>119.798094</td>\n",
       "      <td>101.634467</td>\n",
       "    </tr>\n",
       "    <tr>\n",
       "      <th>1962</th>\n",
       "      <td>6b680b91-f466-45e1-96b9-254a3c17f85d</td>\n",
       "      <td>treatment</td>\n",
       "      <td>125.591746</td>\n",
       "      <td>150.622110</td>\n",
       "    </tr>\n",
       "  </tbody>\n",
       "</table>\n",
       "<p>1963 rows × 4 columns</p>\n",
       "</div>"
      ],
      "text/plain": [
       "                                   user_id      group  revenue_pre  \\\n",
       "0     cf7f6389-95e8-44b1-88d9-71a784d0eea3    control   126.174822   \n",
       "1     6b129f09-fb5f-42df-bde3-a0daf9476c31    control    95.278575   \n",
       "2     f5ce5d40-a918-482f-bd4a-27ade2af0d97  treatment   101.397369   \n",
       "3     82592e1a-b6b7-42bf-a625-1fc138f92d3e    control    68.855613   \n",
       "4     549b14a8-fc08-4224-bf8e-931a7a50e6ff    control   112.974435   \n",
       "...                                    ...        ...          ...   \n",
       "1958  074587da-a60a-4017-aa27-6d4c316efe71  treatment    80.804420   \n",
       "1959  d1a843de-a1db-479f-9e23-65867cc57120  treatment    54.919574   \n",
       "1960  c9e0f7e5-6c22-4434-9168-131e97841d9b  treatment   158.438671   \n",
       "1961  c69dd04c-80c5-4c09-b961-ff188eb22a20    control   119.798094   \n",
       "1962  6b680b91-f466-45e1-96b9-254a3c17f85d  treatment   125.591746   \n",
       "\n",
       "      revenue_exp  \n",
       "0      131.495757  \n",
       "1      105.803968  \n",
       "2      101.787418  \n",
       "3       56.851970  \n",
       "4      101.960805  \n",
       "...           ...  \n",
       "1958    73.944887  \n",
       "1959    79.652109  \n",
       "1960   141.914387  \n",
       "1961   101.634467  \n",
       "1962   150.622110  \n",
       "\n",
       "[1963 rows x 4 columns]"
      ]
     },
     "execution_count": 40,
     "metadata": {},
     "output_type": "execute_result"
    }
   ],
   "source": [
    "df = pd.read_csv('fake_data.csv')"
   ]
  },
  {
   "cell_type": "code",
   "execution_count": null,
   "id": "a2126535",
   "metadata": {},
   "outputs": [
    {
     "name": "stdout",
     "output_type": "stream",
     "text": [
      "\n",
      "Using CUPED,\n",
      "In the test group, the metric is on average equal to 101.70\n",
      "In the control group, the metric is on average equal to 99.47\n",
      "Increase is equal to 2.24\n"
     ]
    }
   ],
   "source": [
    "# CUPED Treatment effect calculation\n",
    "\n",
    "##1 CUPED transformed revenue\n",
    "\n",
    "var_X = np.var(df['revenue_pre'])\n",
    "cov_X_Y = np.cov([df['revenue_pre'], df['revenue_exp']])[0,1]\n",
    "theta =  cov_X_Y/var_X\n",
    "df['revenue_cuped'] = df['revenue_exp'] - theta * ( df['revenue_pre'] - df['revenue_pre'].mean())\n",
    "\n",
    "## Treatment effect\n",
    "\n",
    "cuped_treatment_revenue = df.loc[ df['group'] == 'treatment','revenue_cuped'].mean()\n",
    "cuped_control_revenue = df.loc[ df['group'] == 'control','revenue_cuped'].mean()\n",
    "\n",
    "print('\\nUsing CUPED,')\n",
    "print(f'In the test group, the metric is on average equal to {cuped_treatment_revenue:0.2f}')\n",
    "print(f'In the control group, the metric is on average equal to {cuped_control_revenue:0.2f}')\n",
    "print(f'Increase is equal to {(cuped_treatment_revenue - cuped_control_revenue):0.2f}')\n",
    "\n",
    "CUPED_ATE = cuped_treatment_revenue - cuped_control_revenue"
   ]
  },
  {
   "cell_type": "markdown",
   "id": "811bbf43",
   "metadata": {},
   "source": [
    "### Aside: Compare AB Test vs CUPED\n"
   ]
  },
  {
   "cell_type": "code",
   "execution_count": 42,
   "id": "d43540e8",
   "metadata": {},
   "outputs": [
    {
     "name": "stdout",
     "output_type": "stream",
     "text": [
      "For a Normal AB Test,\n",
      "In the test group, the metric is on average equal to 101.74\n",
      "In the control group, the metric is on average equal to 99.42\n",
      "Increase is equal to 2.32\n"
     ]
    }
   ],
   "source": [
    "# # Normal AB Test\n",
    "\n",
    "treatment_revenue = df.loc[ df['group'] == 'treatment','revenue_exp'].mean()\n",
    "control_revenue = df.loc[ df['group'] == 'control','revenue_exp'].mean()\n",
    "\n",
    "normal_ATE = treatment_revenue - control_revenue\n",
    "print('For a Normal AB Test,')\n",
    "print(f'In the test group, the metric is on average equal to {treatment_revenue:0.2f}')\n",
    "print(f'In the control group, the metric is on average equal to {control_revenue:0.2f}')\n",
    "print(f'Increase is equal to {(treatment_revenue - control_revenue):0.2f}')"
   ]
  },
  {
   "cell_type": "markdown",
   "id": "371cfefe",
   "metadata": {},
   "source": [
    "CUPED will yield different values than the sample mean, however they are both unbiased estimators of the population mean"
   ]
  },
  {
   "cell_type": "code",
   "execution_count": 43,
   "id": "e6c4f006",
   "metadata": {},
   "outputs": [
    {
     "data": {
      "image/png": "[encoded data removed]",
      "text/plain": [
       "<Figure size 800x600 with 2 Axes>"
      ]
     },
     "metadata": {},
     "output_type": "display_data"
    }
   ],
   "source": [
    "import matplotlib.pyplot as plt\n",
    "\n",
    "var_Y = np.var(df['revenue_exp'])\n",
    "var_Y_cuped = np.var(df['revenue_cuped'])\n",
    "\n",
    "fig, axes = plt.subplots(nrows=2, ncols=1, figsize=(8, 6), sharex=True)\n",
    "\n",
    "# Top subplot\n",
    "axes[0].hist(df[df['group'] == 'treatment']['revenue_cuped'], \n",
    "         alpha=0.35,\n",
    "         bins = np.arange(0.0, 200.0, 5.0),\n",
    "         label= f'Treatment with variance {np.round(var_Y_cuped,-1)}')\n",
    "\n",
    "axes[0].hist(df[df['group'] == 'control']['revenue_cuped'], \n",
    "         alpha=0.35,\n",
    "         bins = np.arange(0.0, 200.0, 5.0),\n",
    "         label= f'Control with variance {np.round(var_Y_cuped,-1)}')\n",
    "\n",
    "axes[0].set_title('CUPED')\n",
    "axes[0].legend()\n",
    "\n",
    "\n",
    "# Bottom subplot\n",
    "axes[1].hist(df[df['group'] == 'treatment']['revenue_exp'], \n",
    "         alpha=0.35,\n",
    "         bins = np.arange(0.0, 200.0, 5.0),\n",
    "         label= f'Treatment with variance {np.round(var_Y,-1)}')\n",
    "\n",
    "axes[1].hist(df[df['group'] == 'control']['revenue_exp'], \n",
    "         alpha=0.35,\n",
    "         bins = np.arange(0.0, 200.0, 5.0),\n",
    "         label= f'Control with variance {np.round(var_Y,-1)}')\n",
    "\n",
    "axes[1].set_title('Initial')\n",
    "axes[1].legend()\n",
    "\n",
    "plt.xlabel('Revenue')\n",
    "plt.ylabel('# users')\n",
    "\n",
    "plt.title('Distribution of initial and transformed Revenue')\n",
    "\n",
    "plt.savefig('distribution.png', bbox_inches='tight', dpi=100)"
   ]
  },
  {
   "cell_type": "code",
   "execution_count": 44,
   "id": "b18e739f",
   "metadata": {},
   "outputs": [
    {
     "name": "stdout",
     "output_type": "stream",
     "text": [
      "Using CUPED the treatment effect is: 2.235382942280424 with p_value 0.0005048596257247894\n"
     ]
    }
   ],
   "source": [
    "treatment_cuped = df.loc[ df['group'] == 'treatment','revenue_cuped']\n",
    "control_cuped = df.loc[ df['group'] == 'control','revenue_cuped']\n",
    "t_stat, p_value = stats.ttest_ind(treatment_cuped, control_cuped)\n",
    "print(f'Using CUPED the treatment effect is: {CUPED_ATE} with p_value {p_value}')"
   ]
  },
  {
   "cell_type": "code",
   "execution_count": 45,
   "id": "ed461135",
   "metadata": {},
   "outputs": [
    {
     "name": "stdout",
     "output_type": "stream",
     "text": [
      "Without CUPED, the treatment effect is: 2.3194479700755295 with p_value 0.0984213053558601\n"
     ]
    }
   ],
   "source": [
    "treatment = df.loc[ df['group'] == 'treatment','revenue_exp']\n",
    "control = df.loc[ df['group'] == 'control','revenue_exp']\n",
    "t_stat, p_value = stats.ttest_ind(treatment, control)\n",
    "print(f'Without CUPED, the treatment effect is: {normal_ATE} with p_value {p_value}')"
   ]
  },
  {
   "cell_type": "markdown",
   "id": "026136e7",
   "metadata": {},
   "source": [
    "## Minimum sample size calculation"
   ]
  },
  {
   "cell_type": "markdown",
   "id": "50eb9ffb",
   "metadata": {},
   "source": [
    "To perform MSS using CUPED, we need historical data of the population and divide it into a fake experiment period and a fake pre-experiment period. THe calculation gives a minimum smaple size if the experiment had been performed during that time."
   ]
  },
  {
   "cell_type": "code",
   "execution_count": 62,
   "id": "48775e4a",
   "metadata": {},
   "outputs": [
    {
     "name": "stdout",
     "output_type": "stream",
     "text": [
      "The CUPED minimum sample size is 3.0\n"
     ]
    }
   ],
   "source": [
    "fake_data_MSS = pd.DataFrame([\n",
    "    {'user_id' : '1', 'revenue': 2, 'date': '2024-01-01'},\n",
    "    {'user_id' : '2', 'revenue': 2, 'date': '2024-01-01'},\n",
    "    {'user_id' : '3', 'revenue': 22, 'date': '2024-01-01'},\n",
    "    {'user_id' : '1', 'revenue': 2, 'date': '2024-07-01'},\n",
    "    {'user_id' : '2', 'revenue': 3, 'date': '2024-07-01'},\n",
    "    {'user_id' : '3', 'revenue': 20, 'date': '2024-07-01'}\n",
    "])\n",
    "fake_data_MSS['date'] = pd.to_datetime(fake_data_MSS['date'])\n",
    "\n",
    "FAKE_EXPERIMENT_START_DATE = pd.to_datetime('2024-06-01')\n",
    "CUPED_LOOKBACK_START_DATE = pd.to_datetime('2024-01-01')\n",
    "EXPERIMENT_LENGTH = 12\n",
    "FAKE_EXPERIMENT_END_DATE = FAKE_EXPERIMENT_START_DATE + relativedelta(weeks = EXPERIMENT_LENGTH)\n",
    "MDE_PCNT = 0.10 # Minimum Detectable Effect\n",
    "ALPHA = 0.2 # Type I error rate\n",
    "BETA = 0.2 # Type II error rate\n",
    "\n",
    "# calculate minimum sample size\n",
    "Z_alpha = stats.norm.ppf(1-ALPHA/2)\n",
    "Z_beta = stats.norm.ppf(1-BETA)\n",
    "mde = MDE_PCNT*fake_data_MSS['revenue'].mean()\n",
    "\n",
    "# sample variance of success metric during experiment\n",
    "VAR_ABTEST = np.var(fake_data_MSS.loc[fake_data_MSS['date'] > FAKE_EXPERIMENT_START_DATE, 'revenue'],ddof=1)\n",
    "\n",
    "# CUPED sample variance of success metric during experiment\n",
    "correlation = np.corrcoef(\n",
    "    fake_data_MSS.loc[fake_data_MSS['date'] > FAKE_EXPERIMENT_START_DATE, 'revenue'],\n",
    "    fake_data_MSS.loc[fake_data_MSS['date'] < FAKE_EXPERIMENT_START_DATE, 'revenue']\n",
    "    )[0,1]\n",
    "\n",
    "VAR_CUPED = VAR_ABTEST*(1-correlation**2)\n",
    "\n",
    "MSS_CUPED = (2*VAR_CUPED*(Z_alpha+Z_beta)**2)/(mde**2)\n",
    "print(f\"The CUPED minimum sample size is {np.round(MSS_CUPED,0)}\")"
   ]
  }
 ],
 "metadata": {
  "kernelspec": {
   "display_name": "cuped-comprehensive-guide-k7FkgQLe-py3.12",
   "language": "python",
   "name": "python3"
  },
  "language_info": {
   "codemirror_mode": {
    "name": "ipython",
    "version": 3
   },
   "file_extension": ".py",
   "mimetype": "text/x-python",
   "name": "python",
   "nbconvert_exporter": "python",
   "pygments_lexer": "ipython3",
   "version": "3.12.5"
  }
 },
 "nbformat": 4,
 "nbformat_minor": 5
}
